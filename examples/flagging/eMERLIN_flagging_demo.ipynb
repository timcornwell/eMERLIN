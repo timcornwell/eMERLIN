{
 "cells": [
  {
   "cell_type": "markdown",
   "metadata": {},
   "source": [
    "## Demonstrating aoflagger and flagtable on eMERLIN data\n",
    "\n",
    "The aoflagger module (shared library) must be in the path."
   ]
  },
  {
   "cell_type": "code",
   "execution_count": 1,
   "metadata": {},
   "outputs": [],
   "source": [
    "import aoflagger as aof\n",
    "import matplotlib.pyplot as plt\n",
    "import numpy\n",
    "import sys\n",
    "\n",
    "import logging\n",
    "log = logging.getLogger(__name__)\n",
    "\n",
    "log.setLevel(logging.DEBUG)\n",
    "log.addHandler(logging.StreamHandler(sys.stdout))\n",
    "log.addHandler(logging.StreamHandler(sys.stderr))\n",
    "\n",
    "from rascil.processing_components import create_blockvisibility_from_ms, list_ms, \\\n",
    "    create_flagtable_from_blockvisibility, qa_flagtable"
   ]
  },
  {
   "cell_type": "markdown",
   "metadata": {},
   "source": [
    "Read the 3C277.1_avg Measurement Set"
   ]
  },
  {
   "cell_type": "code",
   "execution_count": 2,
   "metadata": {},
   "outputs": [
    {
     "name": "stdout",
     "output_type": "stream",
     "text": [
      "(['1302+5748', '0319+415', '1407+284', '1252+5634', '1331+305'], [0, 1, 2, 3])\n"
     ]
    }
   ],
   "source": [
    "print(list_ms('../data/3C277.1_avg.ms'))"
   ]
  },
  {
   "cell_type": "markdown",
   "metadata": {},
   "source": [
    "Just read one source and one spectral window"
   ]
  },
  {
   "cell_type": "code",
   "execution_count": 3,
   "metadata": {
    "scrolled": true
   },
   "outputs": [
    {
     "name": "stdout",
     "output_type": "stream",
     "text": [
      "Quality assessment:\n",
      "\tOrigin: qa_visibility\n",
      "\tContext: None\n",
      "\tData:\n",
      "\t\tmaxabs: '12.953973899426211'\n",
      "\t\tminabs: '0.0'\n",
      "\t\trms: '2.0932898208898814'\n",
      "\t\tmedianabs: '0.0'\n",
      "\n",
      "FlagTable:\n",
      "\tNumber of integrations: 315\n",
      "\tFlags shape: (315, 6, 6, 128, 4)\n",
      "\tNumber of channels: 128\n",
      "\tFrequency: [4.8165e+09 4.8175e+09 4.8185e+09 4.8195e+09 4.8205e+09 4.8215e+09\n",
      " 4.8225e+09 4.8235e+09 4.8245e+09 4.8255e+09 4.8265e+09 4.8275e+09\n",
      " 4.8285e+09 4.8295e+09 4.8305e+09 4.8315e+09 4.8325e+09 4.8335e+09\n",
      " 4.8345e+09 4.8355e+09 4.8365e+09 4.8375e+09 4.8385e+09 4.8395e+09\n",
      " 4.8405e+09 4.8415e+09 4.8425e+09 4.8435e+09 4.8445e+09 4.8455e+09\n",
      " 4.8465e+09 4.8475e+09 4.8485e+09 4.8495e+09 4.8505e+09 4.8515e+09\n",
      " 4.8525e+09 4.8535e+09 4.8545e+09 4.8555e+09 4.8565e+09 4.8575e+09\n",
      " 4.8585e+09 4.8595e+09 4.8605e+09 4.8615e+09 4.8625e+09 4.8635e+09\n",
      " 4.8645e+09 4.8655e+09 4.8665e+09 4.8675e+09 4.8685e+09 4.8695e+09\n",
      " 4.8705e+09 4.8715e+09 4.8725e+09 4.8735e+09 4.8745e+09 4.8755e+09\n",
      " 4.8765e+09 4.8775e+09 4.8785e+09 4.8795e+09 4.8805e+09 4.8815e+09\n",
      " 4.8825e+09 4.8835e+09 4.8845e+09 4.8855e+09 4.8865e+09 4.8875e+09\n",
      " 4.8885e+09 4.8895e+09 4.8905e+09 4.8915e+09 4.8925e+09 4.8935e+09\n",
      " 4.8945e+09 4.8955e+09 4.8965e+09 4.8975e+09 4.8985e+09 4.8995e+09\n",
      " 4.9005e+09 4.9015e+09 4.9025e+09 4.9035e+09 4.9045e+09 4.9055e+09\n",
      " 4.9065e+09 4.9075e+09 4.9085e+09 4.9095e+09 4.9105e+09 4.9115e+09\n",
      " 4.9125e+09 4.9135e+09 4.9145e+09 4.9155e+09 4.9165e+09 4.9175e+09\n",
      " 4.9185e+09 4.9195e+09 4.9205e+09 4.9215e+09 4.9225e+09 4.9235e+09\n",
      " 4.9245e+09 4.9255e+09 4.9265e+09 4.9275e+09 4.9285e+09 4.9295e+09\n",
      " 4.9305e+09 4.9315e+09 4.9325e+09 4.9335e+09 4.9345e+09 4.9355e+09\n",
      " 4.9365e+09 4.9375e+09 4.9385e+09 4.9395e+09 4.9405e+09 4.9415e+09\n",
      " 4.9425e+09 4.9435e+09]\n",
      "\tChannel bandwidth: [1000000. 1000000. 1000000. 1000000. 1000000. 1000000. 1000000. 1000000.\n",
      " 1000000. 1000000. 1000000. 1000000. 1000000. 1000000. 1000000. 1000000.\n",
      " 1000000. 1000000. 1000000. 1000000. 1000000. 1000000. 1000000. 1000000.\n",
      " 1000000. 1000000. 1000000. 1000000. 1000000. 1000000. 1000000. 1000000.\n",
      " 1000000. 1000000. 1000000. 1000000. 1000000. 1000000. 1000000. 1000000.\n",
      " 1000000. 1000000. 1000000. 1000000. 1000000. 1000000. 1000000. 1000000.\n",
      " 1000000. 1000000. 1000000. 1000000. 1000000. 1000000. 1000000. 1000000.\n",
      " 1000000. 1000000. 1000000. 1000000. 1000000. 1000000. 1000000. 1000000.\n",
      " 1000000. 1000000. 1000000. 1000000. 1000000. 1000000. 1000000. 1000000.\n",
      " 1000000. 1000000. 1000000. 1000000. 1000000. 1000000. 1000000. 1000000.\n",
      " 1000000. 1000000. 1000000. 1000000. 1000000. 1000000. 1000000. 1000000.\n",
      " 1000000. 1000000. 1000000. 1000000. 1000000. 1000000. 1000000. 1000000.\n",
      " 1000000. 1000000. 1000000. 1000000. 1000000. 1000000. 1000000. 1000000.\n",
      " 1000000. 1000000. 1000000. 1000000. 1000000. 1000000. 1000000. 1000000.\n",
      " 1000000. 1000000. 1000000. 1000000. 1000000. 1000000. 1000000. 1000000.\n",
      " 1000000. 1000000. 1000000. 1000000. 1000000. 1000000. 1000000. 1000000.]\n",
      "\tNumber of polarisations: 4\n",
      "\tPolarisation Frame: circular\n",
      "\tConfiguration: \n",
      "\n",
      "Quality assessment:\n",
      "\tOrigin: qa_flagtable\n",
      "\tContext: None\n",
      "\tData:\n",
      "\t\tmaxabs: '1'\n",
      "\t\tminabs: '0'\n",
      "\t\tmean: '0.07149953152557319'\n",
      "\t\tsum: '415132'\n",
      "\t\tmedianabs: '0.0'\n",
      "\n"
     ]
    }
   ],
   "source": [
    "bvis = create_blockvisibility_from_ms('../data/3C277.1_avg.ms', selected_sources=['1331+305'], \n",
    "                                      selected_dds=[0], datacolumn=\"CORRECTED_DATA\")[0]\n",
    "from rascil.processing_components import qa_visibility\n",
    "print(qa_visibility(bvis))\n",
    "ft = create_flagtable_from_blockvisibility(bvis)\n",
    "print(ft)\n",
    "print(qa_flagtable(ft))"
   ]
  },
  {
   "cell_type": "markdown",
   "metadata": {},
   "source": [
    "Make an AOFlagger to use, and define the image_set"
   ]
  },
  {
   "cell_type": "code",
   "execution_count": 4,
   "metadata": {
    "scrolled": true
   },
   "outputs": [
    {
     "name": "stdout",
     "output_type": "stream",
     "text": [
      "Number of times: 315\n",
      "Number of antennas:6\n",
      "Number of channels: 128\n",
      "Number of polarisations: 4\n"
     ]
    }
   ],
   "source": [
    "ntimes, nant, _, nch, npol = bvis.vis.shape\n",
    "\n",
    "aoflagger = aof.AOFlagger()\n",
    "# Shape of returned buffer is actually nch, ntimes\n",
    "data = aoflagger.make_image_set(ntimes, nch, npol*2)\n",
    "\n",
    "print(\"Number of times: \" + str(data.width()))\n",
    "print(\"Number of antennas:\" +str(nant))\n",
    "print(\"Number of channels: \" + str(data.height()))\n",
    "print(\"Number of polarisations: \" + str(npol))"
   ]
  },
  {
   "cell_type": "markdown",
   "metadata": {},
   "source": [
    "### Make a strategy for this telescope"
   ]
  },
  {
   "cell_type": "code",
   "execution_count": 5,
   "metadata": {},
   "outputs": [],
   "source": [
    "strategyflags = aof.StrategyFlags.LARGE_BANDWIDTH + aof.StrategyFlags.USE_ORIGINAL_FLAGS + \\\n",
    "    aof.StrategyFlags.ROBUST + aof.StrategyFlags.INSENSITIVE"
   ]
  },
  {
   "cell_type": "code",
   "execution_count": 21,
   "metadata": {},
   "outputs": [],
   "source": [
    "#unsigned strategyFlags, double frequency, double timeRes, double frequencyRes\n",
    "#eMERLIN_strategy = aoflagger.make_strategy(aof.TelescopeId.Generic, strategyflags, bvis.frequency[0], \n",
    "#                                           bvis.integration_time[0], bvis.channel_bandwidth[0])\n",
    "eMERLIN_strategy = aoflagger.load_strategy('eMERLIN_strategy.rfis')"
   ]
  },
  {
   "cell_type": "code",
   "execution_count": 25,
   "metadata": {
    "scrolled": false
   },
   "outputs": [
    {
     "name": "stdout",
     "output_type": "stream",
     "text": [
      "1 0: percentage flags on zero data: 58.86904761904762%\n",
      "2 0: percentage flags on zero data: 26.378968253968253%\n",
      "3 0: percentage flags on zero data: 84.79166666666667%\n",
      "4 0: percentage flags on zero data: 80.83333333333333%\n",
      "5 0: percentage flags on zero data: 85.37698412698413%\n",
      "2 1: percentage flags on zero data: 14.556051587301587%\n",
      "3 1: percentage flags on zero data: 52.89186507936508%\n",
      "4 1: percentage flags on zero data: 23.45734126984127%\n",
      "5 1: percentage flags on zero data: 26.607142857142858%\n",
      "3 2: percentage flags on zero data: 36.688988095238095%\n",
      "4 2: percentage flags on zero data: 18.266369047619047%\n",
      "5 2: percentage flags on zero data: 12.135416666666666%\n",
      "4 3: percentage flags on zero data: 61.52281746031746%\n",
      "5 3: percentage flags on zero data: 68.07539682539682%\n",
      "5 4: percentage flags on zero data: 36.70386904761905%\n"
     ]
    }
   ],
   "source": [
    "doplot=False\n",
    "\n",
    "for a2 in range(0, nant-1):\n",
    "    for a1 in range(a2+1,nant):\n",
    "        for pol in range(npol):\n",
    "            data.set_image_buffer(2*pol,   numpy.real(bvis.vis[:,a1,a2,:,pol]).T)\n",
    "            data.set_image_buffer(2*pol+1, numpy.imag(bvis.vis[:,a1,a2,:,pol]).T)\n",
    "            if doplot:\n",
    "                title = 'Visibility: Antenna %d - antenna %d, pol %d' % (a1, a2, pol)\n",
    "                plt.imshow(numpy.real(bvis.vis[:,a1,a2,:,pol]).T, cmap='viridis')\n",
    "                plt.title(title)\n",
    "                plt.colorbar()\n",
    "                plt.show()\n",
    "\n",
    "\n",
    "        flags = aoflagger.run(strategy, data)\n",
    "        flagvalues = flags.get_buffer() * 1\n",
    "        ft.data['flags'][:,a1,a2,:] = flagvalues.T[...,numpy.newaxis]\n",
    "        bvis.data['flags'][:,a1,a2,:,:] = flagvalues.T[...,numpy.newaxis]\n",
    "        flagcount = sum(sum(flagvalues))\n",
    "        print(str(a1) + \" \" + str(a2) + \": percentage flags on zero data: \" \n",
    "              + str(flagcount * 100.0 / (nch*ntimes)) + \"%\")\n",
    "        if doplot:\n",
    "            title = 'Flags: Antenna %d - antenna %d' % (a1, a2)\n",
    "            plt.imshow(flagvalues, cmap='viridis')\n",
    "            plt.title(title)\n",
    "            plt.colorbar()\n",
    "            plt.show()"
   ]
  },
  {
   "cell_type": "code",
   "execution_count": 26,
   "metadata": {},
   "outputs": [
    {
     "name": "stdout",
     "output_type": "stream",
     "text": [
      "Quality assessment:\n",
      "\tOrigin: qa_flagtable\n",
      "\tContext: None\n",
      "\tData:\n",
      "\t\tmaxabs: '1'\n",
      "\t\tminabs: '0'\n",
      "\t\tmean: '0.19087646053791887'\n",
      "\t\tsum: '1108244'\n",
      "\t\tmedianabs: '0.0'\n",
      "\n"
     ]
    }
   ],
   "source": [
    "print(qa_flagtable(ft))"
   ]
  },
  {
   "cell_type": "code",
   "execution_count": null,
   "metadata": {},
   "outputs": [],
   "source": []
  },
  {
   "cell_type": "code",
   "execution_count": null,
   "metadata": {},
   "outputs": [],
   "source": []
  },
  {
   "cell_type": "code",
   "execution_count": null,
   "metadata": {},
   "outputs": [],
   "source": []
  }
 ],
 "metadata": {
  "kernelspec": {
   "display_name": "Python 3",
   "language": "python",
   "name": "python3"
  },
  "language_info": {
   "codemirror_mode": {
    "name": "ipython",
    "version": 3
   },
   "file_extension": ".py",
   "mimetype": "text/x-python",
   "name": "python",
   "nbconvert_exporter": "python",
   "pygments_lexer": "ipython3",
   "version": "3.6.9"
  }
 },
 "nbformat": 4,
 "nbformat_minor": 4
}
