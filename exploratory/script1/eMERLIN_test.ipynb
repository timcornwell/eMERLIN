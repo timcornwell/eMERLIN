{
 "cells": [
  {
   "cell_type": "markdown",
   "source": [
    "## Notebook for imaging eMERLIN calibrated data\n",
    "\n",
    "This illustrates how RASCIL may be used to image eMERLIN data. The example data is from:\n",
    "\n",
    "http://www.e-merlin.ac.uk/distribute/support/tutorials/3C277.1_20150505.tar\n",
    "\n",
    "For a summary of the images produced by the eMERLIN CASA pipeline see:\n",
    "\n",
    " http://www.e-merlin.ac.uk/distribute/support/tutorials/3C277.1_20150505/weblog/index.html\n",
    " \n",
    " To run this notebook, you will need:\n",
    " \n",
    " - RASCIL from https://github.com/SKA-ScienceDataProcessor/rascil\n",
    " - The data from above\n",
    " - nifty-gridder from https://gitlab.mpcdf.mpg.de/ift/nifty_gridder\n",
    " "
   ],
   "metadata": {
    "collapsed": false
   }
  },
  {
   "cell_type": "code",
   "execution_count": 1,
   "outputs": [],
   "source": [
    "%matplotlib inline\n",
    "\n",
    "import logging\n",
    "import os\n",
    "\n",
    "import matplotlib.pyplot as plt\n",
    "plt.rcParams['figure.figsize'] = [12, 12]\n",
    "plt.rcParams['image.cmap'] = 'rainbow'\n",
    "\n",
    "import numpy\n",
    "\n",
    "\n",
    "from rascil.processing_components import show_image, qa_image, export_image_to_fits, qa_gaintable, \\\n",
    "    create_blockvisibility_from_ms, list_ms, integrate_visibility_by_channel, \\\n",
    "    concatenate_blockvisibility_frequency, plot_uvcoverage, plot_visibility, convert_blockvisibility_to_stokesI, \\\n",
    "    convert_blockvisibility_to_visibility, convert_visibility_to_blockvisibility, weight_visibility,\\\n",
    "    create_image_from_visibility, advise_wide_field, create_calibration_controls, gaintable_plot, \\\n",
    "    deconvolve_cube, restore_cube, create_blockvisibility_from_uvfits\n",
    "\n",
    "\n",
    "\n",
    "from rascil.processing_components.imaging.ng import invert_ng\n",
    "\n",
    "\n",
    "cwd = os.getcwd()\n",
    "\n",
    "log = logging.getLogger()\n",
    "log.setLevel(logging.INFO)\n",
    "log.addHandler(logging.FileHandler('%s/eMERLIN_test.log' % cwd))\n",
    "\n",
    "logging.basicConfig(filename='%s/eMERLIN_test.log' % cwd,\n",
    "                    filemode='w',\n",
    "                    format='%(date)s %(asctime)s.%(msecs)d %(name)s %(levelname)s %(message)s',\n",
    "                    datefmt='%H:%M:%S',\n",
    "                    level=logging.DEBUG)\n",
    "log.info(\"Logging to %s/eMERLIN_test.log\" % cwd)\n",
    "\n"
   ],
   "metadata": {
    "collapsed": false,
    "pycharm": {
     "name": "#%%\n",
     "is_executing": false
    }
   }
  },
  {
   "cell_type": "markdown",
   "source": [
    "#### List the contents of the MeasurementSet: sources and data descriptors"
   ],
   "metadata": {
    "collapsed": false
   }
  },
  {
   "cell_type": "code",
   "execution_count": 4,
   "outputs": [
    {
     "traceback": [
      "\u001b[0;31m---------------------------------------------------------------------------\u001b[0m",
      "\u001b[0;31mValueError\u001b[0m                                Traceback (most recent call last)",
      "\u001b[0;32m~/opt/anaconda3/envs/rascil/lib/python3.6/site-packages/astropy/io/fits/column.py\u001b[0m in \u001b[0;36m_get_index\u001b[0;34m(names, key)\u001b[0m\n\u001b[1;32m   2009\u001b[0m         \u001b[0;32mtry\u001b[0m\u001b[0;34m:\u001b[0m\u001b[0;34m\u001b[0m\u001b[0;34m\u001b[0m\u001b[0m\n\u001b[0;32m-> 2010\u001b[0;31m             \u001b[0mindx\u001b[0m \u001b[0;34m=\u001b[0m \u001b[0mnames\u001b[0m\u001b[0;34m.\u001b[0m\u001b[0mindex\u001b[0m\u001b[0;34m(\u001b[0m\u001b[0mkey\u001b[0m\u001b[0;34m.\u001b[0m\u001b[0mrstrip\u001b[0m\u001b[0;34m(\u001b[0m\u001b[0;34m)\u001b[0m\u001b[0;34m)\u001b[0m\u001b[0;34m\u001b[0m\u001b[0;34m\u001b[0m\u001b[0m\n\u001b[0m\u001b[1;32m   2011\u001b[0m         \u001b[0;32mexcept\u001b[0m \u001b[0mValueError\u001b[0m\u001b[0;34m:\u001b[0m\u001b[0;34m\u001b[0m\u001b[0;34m\u001b[0m\u001b[0m\n",
      "\u001b[0;31mValueError\u001b[0m: 'DIAMETER' is not in list",
      "\nDuring handling of the above exception, another exception occurred:\n",
      "\u001b[0;31mKeyError\u001b[0m                                  Traceback (most recent call last)",
      "\u001b[0;32m<ipython-input-4-0a7ad770e02c>\u001b[0m in \u001b[0;36m<module>\u001b[0;34m\u001b[0m\n\u001b[0;32m----> 1\u001b[0;31m \u001b[0mbvis_list\u001b[0m \u001b[0;34m=\u001b[0m \u001b[0mcreate_blockvisibility_from_uvfits\u001b[0m\u001b[0;34m(\u001b[0m \u001b[0;34m'../../data/3C277.1.MULTTB'\u001b[0m\u001b[0;34m)\u001b[0m\u001b[0;34m\u001b[0m\u001b[0;34m\u001b[0m\u001b[0m\n\u001b[0m\u001b[1;32m      2\u001b[0m \u001b[0;34m\u001b[0m\u001b[0m\n",
      "\u001b[0;32m~/Code/rascil/rascil/processing_components/visibility/base.py\u001b[0m in \u001b[0;36mcreate_blockvisibility_from_uvfits\u001b[0;34m(fitsname, channum, ack, antnum)\u001b[0m\n\u001b[1;32m    873\u001b[0m         \u001b[0mantenna_mount\u001b[0m \u001b[0;34m=\u001b[0m \u001b[0mhdul\u001b[0m\u001b[0;34m[\u001b[0m\u001b[0madhu\u001b[0m\u001b[0;34m]\u001b[0m\u001b[0;34m.\u001b[0m\u001b[0mdata\u001b[0m\u001b[0;34m[\u001b[0m\u001b[0;34m'MNTSTA'\u001b[0m\u001b[0;34m]\u001b[0m\u001b[0;34m\u001b[0m\u001b[0;34m\u001b[0m\u001b[0m\n\u001b[1;32m    874\u001b[0m         \u001b[0;32mtry\u001b[0m\u001b[0;34m:\u001b[0m\u001b[0;34m\u001b[0m\u001b[0;34m\u001b[0m\u001b[0m\n\u001b[0;32m--> 875\u001b[0;31m             \u001b[0mantenna_diameter\u001b[0m \u001b[0;34m=\u001b[0m \u001b[0mhdul\u001b[0m\u001b[0;34m[\u001b[0m\u001b[0madhu\u001b[0m\u001b[0;34m]\u001b[0m\u001b[0;34m.\u001b[0m\u001b[0mdata\u001b[0m\u001b[0;34m[\u001b[0m\u001b[0;34m'DIAMETER'\u001b[0m\u001b[0;34m]\u001b[0m\u001b[0;34m\u001b[0m\u001b[0;34m\u001b[0m\u001b[0m\n\u001b[0m\u001b[1;32m    876\u001b[0m         \u001b[0;32mexcept\u001b[0m \u001b[0mValueError\u001b[0m\u001b[0;34m:\u001b[0m\u001b[0;34m\u001b[0m\u001b[0;34m\u001b[0m\u001b[0m\n\u001b[1;32m    877\u001b[0m             \u001b[0mantenna_diameter\u001b[0m \u001b[0;34m=\u001b[0m \u001b[0;32mNone\u001b[0m\u001b[0;34m\u001b[0m\u001b[0;34m\u001b[0m\u001b[0m\n",
      "\u001b[0;32m~/opt/anaconda3/envs/rascil/lib/python3.6/site-packages/astropy/io/fits/fitsrec.py\u001b[0m in \u001b[0;36m__getitem__\u001b[0;34m(self, key)\u001b[0m\n\u001b[1;32m    485\u001b[0m \u001b[0;34m\u001b[0m\u001b[0m\n\u001b[1;32m    486\u001b[0m         \u001b[0;32mif\u001b[0m \u001b[0misinstance\u001b[0m\u001b[0;34m(\u001b[0m\u001b[0mkey\u001b[0m\u001b[0;34m,\u001b[0m \u001b[0mstr\u001b[0m\u001b[0;34m)\u001b[0m\u001b[0;34m:\u001b[0m\u001b[0;34m\u001b[0m\u001b[0;34m\u001b[0m\u001b[0m\n\u001b[0;32m--> 487\u001b[0;31m             \u001b[0;32mreturn\u001b[0m \u001b[0mself\u001b[0m\u001b[0;34m.\u001b[0m\u001b[0mfield\u001b[0m\u001b[0;34m(\u001b[0m\u001b[0mkey\u001b[0m\u001b[0;34m)\u001b[0m\u001b[0;34m\u001b[0m\u001b[0;34m\u001b[0m\u001b[0m\n\u001b[0m\u001b[1;32m    488\u001b[0m \u001b[0;34m\u001b[0m\u001b[0m\n\u001b[1;32m    489\u001b[0m         \u001b[0;31m# Have to view as a recarray then back as a FITS_rec, otherwise the\u001b[0m\u001b[0;34m\u001b[0m\u001b[0;34m\u001b[0m\u001b[0;34m\u001b[0m\u001b[0m\n",
      "\u001b[0;32m~/opt/anaconda3/envs/rascil/lib/python3.6/site-packages/astropy/io/fits/fitsrec.py\u001b[0m in \u001b[0;36mfield\u001b[0;34m(self, key)\u001b[0m\n\u001b[1;32m    672\u001b[0m         \u001b[0;31m# NOTE: The *column* index may not be the same as the field index in\u001b[0m\u001b[0;34m\u001b[0m\u001b[0;34m\u001b[0m\u001b[0;34m\u001b[0m\u001b[0m\n\u001b[1;32m    673\u001b[0m         \u001b[0;31m# the recarray, if the column is a phantom column\u001b[0m\u001b[0;34m\u001b[0m\u001b[0;34m\u001b[0m\u001b[0;34m\u001b[0m\u001b[0m\n\u001b[0;32m--> 674\u001b[0;31m         \u001b[0mcolumn\u001b[0m \u001b[0;34m=\u001b[0m \u001b[0mself\u001b[0m\u001b[0;34m.\u001b[0m\u001b[0mcolumns\u001b[0m\u001b[0;34m[\u001b[0m\u001b[0mkey\u001b[0m\u001b[0;34m]\u001b[0m\u001b[0;34m\u001b[0m\u001b[0;34m\u001b[0m\u001b[0m\n\u001b[0m\u001b[1;32m    675\u001b[0m         \u001b[0mname\u001b[0m \u001b[0;34m=\u001b[0m \u001b[0mcolumn\u001b[0m\u001b[0;34m.\u001b[0m\u001b[0mname\u001b[0m\u001b[0;34m\u001b[0m\u001b[0;34m\u001b[0m\u001b[0m\n\u001b[1;32m    676\u001b[0m         \u001b[0mformat\u001b[0m \u001b[0;34m=\u001b[0m \u001b[0mcolumn\u001b[0m\u001b[0;34m.\u001b[0m\u001b[0mformat\u001b[0m\u001b[0;34m\u001b[0m\u001b[0;34m\u001b[0m\u001b[0m\n",
      "\u001b[0;32m~/opt/anaconda3/envs/rascil/lib/python3.6/site-packages/astropy/io/fits/column.py\u001b[0m in \u001b[0;36m__getitem__\u001b[0;34m(self, key)\u001b[0m\n\u001b[1;32m   1615\u001b[0m     \u001b[0;32mdef\u001b[0m \u001b[0m__getitem__\u001b[0m\u001b[0;34m(\u001b[0m\u001b[0mself\u001b[0m\u001b[0;34m,\u001b[0m \u001b[0mkey\u001b[0m\u001b[0;34m)\u001b[0m\u001b[0;34m:\u001b[0m\u001b[0;34m\u001b[0m\u001b[0;34m\u001b[0m\u001b[0m\n\u001b[1;32m   1616\u001b[0m         \u001b[0;32mif\u001b[0m \u001b[0misinstance\u001b[0m\u001b[0;34m(\u001b[0m\u001b[0mkey\u001b[0m\u001b[0;34m,\u001b[0m \u001b[0mstr\u001b[0m\u001b[0;34m)\u001b[0m\u001b[0;34m:\u001b[0m\u001b[0;34m\u001b[0m\u001b[0;34m\u001b[0m\u001b[0m\n\u001b[0;32m-> 1617\u001b[0;31m             \u001b[0mkey\u001b[0m \u001b[0;34m=\u001b[0m \u001b[0m_get_index\u001b[0m\u001b[0;34m(\u001b[0m\u001b[0mself\u001b[0m\u001b[0;34m.\u001b[0m\u001b[0mnames\u001b[0m\u001b[0;34m,\u001b[0m \u001b[0mkey\u001b[0m\u001b[0;34m)\u001b[0m\u001b[0;34m\u001b[0m\u001b[0;34m\u001b[0m\u001b[0m\n\u001b[0m\u001b[1;32m   1618\u001b[0m \u001b[0;34m\u001b[0m\u001b[0m\n\u001b[1;32m   1619\u001b[0m         \u001b[0mx\u001b[0m \u001b[0;34m=\u001b[0m \u001b[0mself\u001b[0m\u001b[0;34m.\u001b[0m\u001b[0mcolumns\u001b[0m\u001b[0;34m[\u001b[0m\u001b[0mkey\u001b[0m\u001b[0;34m]\u001b[0m\u001b[0;34m\u001b[0m\u001b[0;34m\u001b[0m\u001b[0m\n",
      "\u001b[0;32m~/opt/anaconda3/envs/rascil/lib/python3.6/site-packages/astropy/io/fits/column.py\u001b[0m in \u001b[0;36m_get_index\u001b[0;34m(names, key)\u001b[0m\n\u001b[1;32m   2017\u001b[0m                 \u001b[0mindx\u001b[0m \u001b[0;34m=\u001b[0m \u001b[0mnames\u001b[0m\u001b[0;34m.\u001b[0m\u001b[0mindex\u001b[0m\u001b[0;34m(\u001b[0m\u001b[0m_key\u001b[0m\u001b[0;34m)\u001b[0m\u001b[0;34m\u001b[0m\u001b[0;34m\u001b[0m\u001b[0m\n\u001b[1;32m   2018\u001b[0m             \u001b[0;32melif\u001b[0m \u001b[0mcount\u001b[0m \u001b[0;34m==\u001b[0m \u001b[0;36m0\u001b[0m\u001b[0;34m:\u001b[0m\u001b[0;34m\u001b[0m\u001b[0;34m\u001b[0m\u001b[0m\n\u001b[0;32m-> 2019\u001b[0;31m                 \u001b[0;32mraise\u001b[0m \u001b[0mKeyError\u001b[0m\u001b[0;34m(\u001b[0m\u001b[0;34mf\"Key '{key}' does not exist.\"\u001b[0m\u001b[0;34m)\u001b[0m\u001b[0;34m\u001b[0m\u001b[0;34m\u001b[0m\u001b[0m\n\u001b[0m\u001b[1;32m   2020\u001b[0m             \u001b[0;32melse\u001b[0m\u001b[0;34m:\u001b[0m              \u001b[0;31m# multiple match\u001b[0m\u001b[0;34m\u001b[0m\u001b[0;34m\u001b[0m\u001b[0m\n\u001b[1;32m   2021\u001b[0m                 \u001b[0;32mraise\u001b[0m \u001b[0mKeyError\u001b[0m\u001b[0;34m(\u001b[0m\u001b[0;34mf\"Ambiguous key name '{key}'.\"\u001b[0m\u001b[0;34m)\u001b[0m\u001b[0;34m\u001b[0m\u001b[0;34m\u001b[0m\u001b[0m\n",
      "\u001b[0;31mKeyError\u001b[0m: \"Key 'DIAMETER' does not exist.\""
     ],
     "ename": "KeyError",
     "evalue": "\"Key 'DIAMETER' does not exist.\"",
     "output_type": "error"
    }
   ],
   "source": [
    "bvis_list = create_blockvisibility_from_uvfits( '../../data/3C277.1.MULTTB')"
   ],
   "metadata": {
    "collapsed": false,
    "pycharm": {
     "name": "#%%\n",
     "is_executing": false
    }
   }
  },
  {
   "cell_type": "markdown",
   "source": [
    "#### Load just 3C277.1 (1252+5634) and '1302+5748'"
   ],
   "metadata": {
    "collapsed": false
   }
  },
  {
   "cell_type": "code",
   "execution_count": null,
   "outputs": [],
   "source": [
    "selected_sources = ['1302+5748']\n",
    "bvis_list = create_blockvisibility_from_ms('../../data/3C277.1_avg.ms', datacolumn='CORRECTED_DATA',\n",
    "                                           selected_sources=selected_sources)\n",
    "sources = numpy.unique([bv.source for bv in bvis_list])\n",
    "print(sources)\n",
    "print(numpy.max(bvis_list[0].flagged_vis))"
   ],
   "metadata": {
    "collapsed": false,
    "pycharm": {
     "name": "#%%\n"
    }
   }
  },
  {
   "cell_type": "code",
   "execution_count": null,
   "outputs": [],
   "source": [
    "flag = False\n",
    "if flag:\n",
    "    \n",
    "    import aoflagger as aof\n",
    "    \n",
    "    bvis=bvis_list[0]\n",
    "    ntimes, nant, _, nch, npol = bvis.vis.shape\n",
    "\n",
    "    aoflagger = aof.AOFlagger()\n",
    "    # Shape of returned buffer is actually nch, ntimes\n",
    "    data = aoflagger.make_image_set(ntimes, nch, npol*2)\n",
    "\n",
    "    print(\"Number of times: \" + str(data.width()))\n",
    "    print(\"Number of antennas:\" +str(nant))\n",
    "    print(\"Number of channels: \" + str(data.height()))\n",
    "    print(\"Number of polarisations: \" + str(npol))\n",
    "    eMERLIN_strategy = aoflagger.load_strategy('eMERLIN_strategy.rfis')\n",
    "\n",
    "    for a2 in range(0, nant-1):\n",
    "        for a1 in range(a2+1,nant):\n",
    "            for pol in range(npol):\n",
    "                data.set_image_buffer(2*pol,   numpy.real(bvis.vis[:,a1,a2,:,pol]).T)\n",
    "                data.set_image_buffer(2*pol+1, numpy.imag(bvis.vis[:,a1,a2,:,pol]).T)\n",
    "\n",
    "\n",
    "            flags = aoflagger.run(eMERLIN_strategy, data)\n",
    "            flagvalues = flags.get_buffer() * 1\n",
    "            bvis.data['flags'][:,a1,a2,:,:] = flagvalues.T[...,numpy.newaxis]\n",
    "            flagcount = sum(sum(flagvalues))\n",
    "            print(str(a1) + \" \" + str(a2) + \": percentage flags on zero data: \" \n",
    "                  + str(flagcount * 100.0 / (nch*ntimes)) + \"%\")"
   ],
   "metadata": {
    "collapsed": false,
    "pycharm": {
     "name": "#%%\n"
    }
   }
  },
  {
   "cell_type": "markdown",
   "source": [
    "#### Average across all each BlockVisibility over all 128 channels, and then concatenate into single BlockVisibilitys, one per source"
   ],
   "metadata": {
    "collapsed": false
   }
  },
  {
   "cell_type": "code",
   "execution_count": null,
   "outputs": [],
   "source": [
    "avis_list = [integrate_visibility_by_channel(bvis) for bvis in bvis_list]\n",
    "print(numpy.max(avis_list[0].flagged_vis))\n",
    "blockvis = [concatenate_blockvisibility_frequency(avis_list[isource * 4:(isource * 4 + 4)])\n",
    "            for isource, source in enumerate(sources)]\n",
    "print(numpy.max(blockvis[0].flagged_vis))"
   ],
   "metadata": {
    "collapsed": false,
    "pycharm": {
     "name": "#%%\n"
    }
   }
  },
  {
   "cell_type": "markdown",
   "source": [
    "#### Plot the uv coverage and visibility"
   ],
   "metadata": {
    "collapsed": false
   }
  },
  {
   "cell_type": "markdown",
   "source": [
    "#### Run one of:\n",
    "- Invert + deconvolve + restore (mode='invert')\n",
    "- Continuum Imaging Pipeline (mode='cip')\n",
    "- ICAL pipeline (mode='ical')"
   ],
   "metadata": {
    "collapsed": false
   }
  },
  {
   "cell_type": "code",
   "execution_count": null,
   "outputs": [],
   "source": [
    "plt.rcParams['figure.figsize'] = [12, 12]\n",
    "plt.rcParams['image.cmap'] = 'rainbow'\n",
    "\n",
    "from rascil.processing_components import invert_2d\n",
    "from rascil.workflows import continuum_imaging_list_serial_workflow, ical_list_serial_workflow\n",
    "\n",
    "advice = advise_wide_field(avis_list[0], verbose=False)\n",
    "for svis in blockvis:\n",
    "    frequency = [numpy.mean(svis.frequency)]\n",
    "    channel_bandwidth = [numpy.sum(svis.channel_bandwidth)]\n",
    "    ivis = convert_blockvisibility_to_stokesI(svis)\n",
    "    print(numpy.max(ivis.flagged_weight))\n",
    "    model = create_image_from_visibility(ivis, npixel=1024, cellsize=advice['cellsize']/3.0, nchan=1,\n",
    "                                         frequency=frequency, channel_bandwidth=channel_bandwidth)\n",
    "    cvis = convert_blockvisibility_to_visibility(ivis)\n",
    "    print(numpy.max(cvis.flagged_weight))\n",
    "    cvis = weight_visibility(cvis, model)\n",
    "    print(numpy.max(cvis.flagged_weight))\n",
    "    ivis = convert_visibility_to_blockvisibility(cvis)\n",
    "    print(numpy.max(ivis.flagged_weight))\n",
    "    \n",
    "    for mode in [\"invert\"]:\n",
    "        \n",
    "        print(\"\\n\")\n",
    "        print(\"Processing {source:s} via {mode:s} pipeline\".format(source=svis.source, mode=mode))\n",
    "        print(\"\\n\")\n",
    "\n",
    "        filename_root = \"3C277.1_avg_{source:s}_{mode:s}\".format(source=svis.source, mode=mode)\n",
    "\n",
    "        if mode == \"ical\":\n",
    "            controls = create_calibration_controls()\n",
    "            controls['T']['first_selfcal'] = 1\n",
    "            controls['T']['phase_only'] = True\n",
    "            controls['T']['timeslice'] = 3.0\n",
    "            controls['G']['first_selfcal'] = 10\n",
    "            controls['G']['phase_only'] = False\n",
    "            controls['G']['timeslice'] = 3600.0\n",
    "\n",
    "\n",
    "            deconvolved, residual, restored, gt_list = ical_list_serial_workflow([ivis], [model],\n",
    "                                                                                 context='ng',\n",
    "                                                                                 nmajor=15,\n",
    "                                                                                 niter=1000, algorithm='msclean',\n",
    "                                                                                 scales=[0, 3, 10], gain=0.1,\n",
    "                                                                                 fractional_threshold=0.5,\n",
    "                                                                                 threshold=0.0015,\n",
    "                                                                                 window_shape='quarter',\n",
    "                                                                                 do_wstacking=False,\n",
    "                                                                                 global_solution=False,\n",
    "                                                                                 calibration_context='TG',\n",
    "                                                                                 do_selfcal=True,\n",
    "                                                                                 controls=controls)\n",
    "            deconvolved = deconvolved[0]\n",
    "            residual = residual[0][0]\n",
    "            restored = restored[0]\n",
    "            gt = gt_list[0]['T']\n",
    "            print(qa_gaintable(gt))\n",
    "            fig, ax = plt.subplots(1,1)\n",
    "            gaintable_plot(gt, ax, value='phase')\n",
    "            plt.show(block=False)\n",
    "\n",
    "            gt = gt_list[0]['G']\n",
    "            print(qa_gaintable(gt))\n",
    "            fig, ax = plt.subplots(1,1)\n",
    "            gaintable_plot(gt, ax, value='amp')\n",
    "            plt.show(block=False)\n",
    "\n",
    "\n",
    "        elif mode == \"cip\":\n",
    "            deconvolved, residual, restored = continuum_imaging_list_serial_workflow([ivis], [model], context='ng',\n",
    "                                                                                     nmajor=10,\n",
    "                                                                                     niter=1000, algorithm='msclean',\n",
    "                                                                                     scales=[0, 3, 10], gain=0.1,\n",
    "                                                                                     fractional_threshold=0.5,\n",
    "                                                                                     threshold=0.0015,\n",
    "                                                                                     window_shape='quarter',\n",
    "                                                                                     do_wstacking=False)\n",
    "\n",
    "            deconvolved = deconvolved[0]\n",
    "            residual = residual[0][0]\n",
    "            restored = restored[0]\n",
    "\n",
    "        else:\n",
    "            mode = \"invert\"\n",
    "            print(numpy.max(ivis.flagged_vis))\n",
    "            dirty, sumwt = invert_ng(ivis, model, do_wstacking=False)\n",
    "            print(sumwt)\n",
    "            plt.clf()\n",
    "            show_image(dirty, title=svis.source + \" Dirty image\", cm=\"rainbow\")\n",
    "            plt.show(block=False)\n",
    "\n",
    "            psf, sumwt = invert_ng(ivis, model, do_wstacking=False, dopsf=True)\n",
    "            plt.clf()\n",
    "            show_image(psf, title=svis.source + \" PSF\", cm=\"rainbow\")\n",
    "            plt.show(block=False)\n",
    "\n",
    "            deconvolved, residual = deconvolve_cube(dirty, psf, niter=1000, algorithm='msclean',\n",
    "                                                    fractional_threshold=1e-3,\n",
    "                                                    scales=[0, 3, 10], gain=0.1, threshold=0.003,\n",
    "                                                    window_shape='quarter')\n",
    "            restored = restore_cube(deconvolved, psf, residual)\n",
    "\n",
    "        print(qa_image(deconvolved, context='Deconvolved image'))\n",
    "        plt.clf()\n",
    "        show_image(deconvolved, title=filename_root + \" deconvolved image\", cm=\"rainbow\")\n",
    "        plt.tight_layout()\n",
    "        plt.show(block=False)\n",
    "        filename = \"{root:s}_deconvolved.fits\".format(root=filename_root)\n",
    "        export_image_to_fits(deconvolved, filename)\n",
    "\n",
    "\n",
    "        print(qa_image(residual, context='Residual image'))\n",
    "        plt.clf()\n",
    "        show_image(residual, title=filename_root + \" residual image\", cm=\"rainbow\")\n",
    "        plt.tight_layout()\n",
    "        plt.show(block=False)\n",
    "        filename = \"{root:s}_residual.fits\".format(root=filename_root)\n",
    "        export_image_to_fits(residual, filename)\n",
    "\n",
    "\n",
    "        print(qa_image(restored, context='Restored image'))\n",
    "        plt.clf()\n",
    "        show_image(restored, title=filename_root + \" restored image\", cm=\"rainbow\")\n",
    "        plt.tight_layout()\n",
    "        plt.show(block=False)        \n",
    "\n",
    "        plt.clf()\n",
    "        show_image(restored, title=filename_root + \" restored image\", vscale=0.1, cm=\"rainbow\")\n",
    "        plt.tight_layout()\n",
    "        plt.show(block=False)        \n",
    "\n",
    "        filename = \"{root:s}_restored.fits\".format(root=filename_root)\n",
    "        export_image_to_fits(restored, filename)\n",
    "    "
   ],
   "metadata": {
    "collapsed": false,
    "pycharm": {
     "name": "#%% \n"
    }
   }
  },
  {
   "cell_type": "code",
   "execution_count": null,
   "outputs": [],
   "source": [],
   "metadata": {
    "collapsed": false,
    "pycharm": {
     "name": "#%%\n"
    }
   }
  },
  {
   "cell_type": "code",
   "execution_count": null,
   "outputs": [],
   "source": [],
   "metadata": {
    "collapsed": false,
    "pycharm": {
     "name": "#%%\n"
    }
   }
  }
 ],
 "metadata": {
  "kernelspec": {
   "display_name": "Python 3",
   "language": "python",
   "name": "python3"
  },
  "language_info": {
   "codemirror_mode": {
    "name": "ipython",
    "version": 3
   },
   "file_extension": ".py",
   "mimetype": "text/x-python",
   "name": "python",
   "nbconvert_exporter": "python",
   "pygments_lexer": "ipython3",
   "version": "3.7.4"
  },
  "pycharm": {
   "stem_cell": {
    "cell_type": "raw",
    "source": [],
    "metadata": {
     "collapsed": false
    }
   }
  }
 },
 "nbformat": 4,
 "nbformat_minor": 1
}