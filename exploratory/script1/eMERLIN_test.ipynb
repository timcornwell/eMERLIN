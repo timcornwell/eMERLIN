{
 "cells": [
  {
   "cell_type": "markdown",
   "metadata": {},
   "source": [
    "## Notebook for imaging eMERLIN calibrated data\n",
    "\n",
    "This illustrates how RASCIL may be used to image eMERLIN data. The example data is from:\n",
    "\n",
    "http://www.e-merlin.ac.uk/distribute/support/tutorials/3C277.1_20150505.tar\n",
    "\n",
    "For a summary of the images produced by the eMERLIN CASA pipeline see:\n",
    "\n",
    " http://www.e-merlin.ac.uk/distribute/support/tutorials/3C277.1_20150505/weblog/index.html\n",
    " \n",
    " To run this notebook, you will need:\n",
    " \n",
    " - RASCIL from https://github.com/SKA-ScienceDataProcessor/rascil\n",
    " - The data from above\n",
    " - nifty-gridder from https://gitlab.mpcdf.mpg.de/ift/nifty_gridder\n",
    " "
   ]
  },
  {
   "cell_type": "code",
   "execution_count": 1,
   "metadata": {
    "ExecuteTime": {
     "end_time": "2020-02-14T12:41:12.053082Z",
     "start_time": "2020-02-14T12:41:09.718135Z"
    },
    "pycharm": {
     "is_executing": false,
     "name": "#%%\n"
    }
   },
   "outputs": [],
   "source": [
    "%matplotlib inline\n",
    "\n",
    "import logging\n",
    "import os\n",
    "\n",
    "import matplotlib.pyplot as plt\n",
    "plt.rcParams['figure.figsize'] = [12, 12]\n",
    "plt.rcParams['image.cmap'] = 'rainbow'\n",
    "\n",
    "import numpy\n",
    "\n",
    "\n",
    "from rascil.processing_components import show_image, qa_image, export_image_to_fits, qa_gaintable, \\\n",
    "    create_blockvisibility_from_ms, list_ms, integrate_visibility_by_channel, \\\n",
    "    concatenate_blockvisibility_frequency, plot_uvcoverage, plot_visibility, convert_blockvisibility_to_stokesI, \\\n",
    "    convert_blockvisibility_to_visibility, convert_visibility_to_blockvisibility, weight_visibility,\\\n",
    "    create_image_from_visibility, advise_wide_field, create_calibration_controls, gaintable_plot, \\\n",
    "    deconvolve_cube, restore_cube, create_blockvisibility_from_uvfits\n",
    "\n",
    "\n",
    "\n",
    "from rascil.processing_components.imaging.ng import invert_ng\n",
    "\n",
    "\n",
    "cwd = os.getcwd()\n",
    "\n",
    "log = logging.getLogger()\n",
    "log.setLevel(logging.INFO)\n",
    "log.addHandler(logging.FileHandler('%s/eMERLIN_test.log' % cwd))\n",
    "\n",
    "logging.basicConfig(filename='%s/eMERLIN_test.log' % cwd,\n",
    "                    filemode='w',\n",
    "                    format='%(date)s %(asctime)s.%(msecs)d %(name)s %(levelname)s %(message)s',\n",
    "                    datefmt='%H:%M:%S',\n",
    "                    level=logging.DEBUG)\n",
    "log.info(\"Logging to %s/eMERLIN_test.log\" % cwd)\n",
    "\n"
   ]
  },
  {
   "cell_type": "markdown",
   "metadata": {},
   "source": [
    "#### List the contents of the MeasurementSet: sources and data descriptors"
   ]
  },
  {
   "cell_type": "code",
   "execution_count": 2,
   "metadata": {
    "ExecuteTime": {
     "end_time": "2020-02-14T12:41:16.428285Z",
     "start_time": "2020-02-14T12:41:14.415529Z"
    },
    "pycharm": {
     "is_executing": false,
     "name": "#%%\n"
    }
   },
   "outputs": [],
   "source": [
    "bvis_list = create_blockvisibility_from_uvfits( '../../data/3C277.1.MULTTB')"
   ]
  },
  {
   "cell_type": "markdown",
   "metadata": {},
   "source": [
    "#### Load just 3C277.1 (1252+5634) and '1302+5748'"
   ]
  },
  {
   "cell_type": "code",
   "execution_count": 3,
   "metadata": {
    "ExecuteTime": {
     "end_time": "2020-02-14T12:41:32.110036Z",
     "start_time": "2020-02-14T12:41:32.050498Z"
    },
    "pycharm": {
     "name": "#%%\n"
    }
   },
   "outputs": [
    {
     "ename": "ImportError",
     "evalue": "dlopen(/Users/timcornwell/opt/anaconda3/envs/rascil37/lib/python3.7/site-packages/casacore/tables/_tables.cpython-37m-darwin.so, 2): Library not loaded: /usr/local/opt/boost-python/lib/libboost_python-mt.dylib\n  Referenced from: /Users/timcornwell/opt/anaconda3/envs/rascil37/lib/python3.7/site-packages/casacore/tables/_tables.cpython-37m-darwin.so\n  Reason: image not found",
     "output_type": "error",
     "traceback": [
      "\u001b[0;31m---------------------------------------------------------------------------\u001b[0m",
      "\u001b[0;31mImportError\u001b[0m                               Traceback (most recent call last)",
      "\u001b[0;32m<ipython-input-3-09f30d6f88a2>\u001b[0m in \u001b[0;36m<module>\u001b[0;34m\u001b[0m\n\u001b[1;32m      1\u001b[0m \u001b[0mselected_sources\u001b[0m \u001b[0;34m=\u001b[0m \u001b[0;34m[\u001b[0m\u001b[0;34m'1302+5748'\u001b[0m\u001b[0;34m]\u001b[0m\u001b[0;34m\u001b[0m\u001b[0;34m\u001b[0m\u001b[0m\n\u001b[1;32m      2\u001b[0m bvis_list = create_blockvisibility_from_ms('../../data/3C277.1_avg.ms', datacolumn='CORRECTED_DATA',\n\u001b[0;32m----> 3\u001b[0;31m                                            selected_sources=selected_sources)\n\u001b[0m\u001b[1;32m      4\u001b[0m \u001b[0msources\u001b[0m \u001b[0;34m=\u001b[0m \u001b[0mnumpy\u001b[0m\u001b[0;34m.\u001b[0m\u001b[0munique\u001b[0m\u001b[0;34m(\u001b[0m\u001b[0;34m[\u001b[0m\u001b[0mbv\u001b[0m\u001b[0;34m.\u001b[0m\u001b[0msource\u001b[0m \u001b[0;32mfor\u001b[0m \u001b[0mbv\u001b[0m \u001b[0;32min\u001b[0m \u001b[0mbvis_list\u001b[0m\u001b[0;34m]\u001b[0m\u001b[0;34m)\u001b[0m\u001b[0;34m\u001b[0m\u001b[0;34m\u001b[0m\u001b[0m\n\u001b[1;32m      5\u001b[0m \u001b[0mprint\u001b[0m\u001b[0;34m(\u001b[0m\u001b[0msources\u001b[0m\u001b[0;34m)\u001b[0m\u001b[0;34m\u001b[0m\u001b[0;34m\u001b[0m\u001b[0m\n",
      "\u001b[0;32m~/Code/rascil/rascil/processing_components/visibility/base.py\u001b[0m in \u001b[0;36mcreate_blockvisibility_from_ms\u001b[0;34m(msname, channum, start_chan, end_chan, ack, datacolumn, selected_sources, selected_dds)\u001b[0m\n\u001b[1;32m    609\u001b[0m     \"\"\"\n\u001b[1;32m    610\u001b[0m     \u001b[0;32mtry\u001b[0m\u001b[0;34m:\u001b[0m\u001b[0;34m\u001b[0m\u001b[0;34m\u001b[0m\u001b[0m\n\u001b[0;32m--> 611\u001b[0;31m         \u001b[0;32mfrom\u001b[0m \u001b[0mcasacore\u001b[0m\u001b[0;34m.\u001b[0m\u001b[0mtables\u001b[0m \u001b[0;32mimport\u001b[0m \u001b[0mtable\u001b[0m  \u001b[0;31m# pylint: disable=import-error\u001b[0m\u001b[0;34m\u001b[0m\u001b[0;34m\u001b[0m\u001b[0m\n\u001b[0m\u001b[1;32m    612\u001b[0m     \u001b[0;32mexcept\u001b[0m \u001b[0mModuleNotFoundError\u001b[0m\u001b[0;34m:\u001b[0m\u001b[0;34m\u001b[0m\u001b[0;34m\u001b[0m\u001b[0m\n\u001b[1;32m    613\u001b[0m         \u001b[0;32mraise\u001b[0m \u001b[0mModuleNotFoundError\u001b[0m\u001b[0;34m(\u001b[0m\u001b[0;34m\"casacore is not installed\"\u001b[0m\u001b[0;34m)\u001b[0m\u001b[0;34m\u001b[0m\u001b[0;34m\u001b[0m\u001b[0m\n",
      "\u001b[0;32m~/opt/anaconda3/envs/rascil37/lib/python3.7/site-packages/casacore/tables/__init__.py\u001b[0m in \u001b[0;36m<module>\u001b[0;34m\u001b[0m\n\u001b[1;32m     58\u001b[0m \"\"\"\n\u001b[1;32m     59\u001b[0m \u001b[0;34m\u001b[0m\u001b[0m\n\u001b[0;32m---> 60\u001b[0;31m \u001b[0;32mfrom\u001b[0m \u001b[0;34m.\u001b[0m\u001b[0mmsutil\u001b[0m \u001b[0;32mimport\u001b[0m \u001b[0;34m*\u001b[0m\u001b[0;34m\u001b[0m\u001b[0;34m\u001b[0m\u001b[0m\n\u001b[0m\u001b[1;32m     61\u001b[0m \u001b[0;32mfrom\u001b[0m \u001b[0;34m.\u001b[0m\u001b[0mtable\u001b[0m \u001b[0;32mimport\u001b[0m \u001b[0mtable\u001b[0m\u001b[0;34m\u001b[0m\u001b[0;34m\u001b[0m\u001b[0m\n\u001b[1;32m     62\u001b[0m \u001b[0;32mfrom\u001b[0m \u001b[0;34m.\u001b[0m\u001b[0mtable\u001b[0m \u001b[0;32mimport\u001b[0m \u001b[0mdefault_ms\u001b[0m\u001b[0;34m\u001b[0m\u001b[0;34m\u001b[0m\u001b[0m\n",
      "\u001b[0;32m~/opt/anaconda3/envs/rascil37/lib/python3.7/site-packages/casacore/tables/msutil.py\u001b[0m in \u001b[0;36m<module>\u001b[0;34m\u001b[0m\n\u001b[1;32m     27\u001b[0m \u001b[0;32mimport\u001b[0m \u001b[0mnumpy\u001b[0m \u001b[0;32mas\u001b[0m \u001b[0mnp\u001b[0m\u001b[0;34m\u001b[0m\u001b[0;34m\u001b[0m\u001b[0m\n\u001b[1;32m     28\u001b[0m \u001b[0;32mimport\u001b[0m \u001b[0msix\u001b[0m\u001b[0;34m\u001b[0m\u001b[0;34m\u001b[0m\u001b[0m\n\u001b[0;32m---> 29\u001b[0;31m \u001b[0;32mfrom\u001b[0m \u001b[0mcasacore\u001b[0m\u001b[0;34m.\u001b[0m\u001b[0mtables\u001b[0m\u001b[0;34m.\u001b[0m\u001b[0mtable\u001b[0m \u001b[0;32mimport\u001b[0m \u001b[0mtable\u001b[0m\u001b[0;34m,\u001b[0m \u001b[0mtaql\u001b[0m\u001b[0;34m,\u001b[0m \u001b[0m_required_ms_desc\u001b[0m\u001b[0;34m\u001b[0m\u001b[0;34m\u001b[0m\u001b[0m\n\u001b[0m\u001b[1;32m     30\u001b[0m \u001b[0;32mfrom\u001b[0m \u001b[0mcasacore\u001b[0m\u001b[0;34m.\u001b[0m\u001b[0mtables\u001b[0m\u001b[0;34m.\u001b[0m\u001b[0mtableutil\u001b[0m \u001b[0;32mimport\u001b[0m \u001b[0mmakescacoldesc\u001b[0m\u001b[0;34m,\u001b[0m \u001b[0mmakearrcoldesc\u001b[0m\u001b[0;34m,\u001b[0m\u001b[0;31m \u001b[0m\u001b[0;31m\\\u001b[0m\u001b[0;34m\u001b[0m\u001b[0;34m\u001b[0m\u001b[0m\n\u001b[1;32m     31\u001b[0m     \u001b[0mmakecoldesc\u001b[0m\u001b[0;34m,\u001b[0m \u001b[0mmaketabdesc\u001b[0m\u001b[0;34m\u001b[0m\u001b[0;34m\u001b[0m\u001b[0m\n",
      "\u001b[0;32m~/opt/anaconda3/envs/rascil37/lib/python3.7/site-packages/casacore/tables/table.py\u001b[0m in \u001b[0;36m<module>\u001b[0;34m\u001b[0m\n\u001b[1;32m     38\u001b[0m \u001b[0;34m\u001b[0m\u001b[0m\n\u001b[1;32m     39\u001b[0m \u001b[0;32mfrom\u001b[0m \u001b[0msix\u001b[0m \u001b[0;32mimport\u001b[0m \u001b[0mstring_types\u001b[0m\u001b[0;34m\u001b[0m\u001b[0;34m\u001b[0m\u001b[0m\n\u001b[0;32m---> 40\u001b[0;31m from ._tables import (Table,\n\u001b[0m\u001b[1;32m     41\u001b[0m                       \u001b[0m_default_ms\u001b[0m\u001b[0;34m,\u001b[0m\u001b[0;34m\u001b[0m\u001b[0;34m\u001b[0m\u001b[0m\n\u001b[1;32m     42\u001b[0m                       \u001b[0m_default_ms_subtable\u001b[0m\u001b[0;34m,\u001b[0m\u001b[0;34m\u001b[0m\u001b[0;34m\u001b[0m\u001b[0m\n",
      "\u001b[0;31mImportError\u001b[0m: dlopen(/Users/timcornwell/opt/anaconda3/envs/rascil37/lib/python3.7/site-packages/casacore/tables/_tables.cpython-37m-darwin.so, 2): Library not loaded: /usr/local/opt/boost-python/lib/libboost_python-mt.dylib\n  Referenced from: /Users/timcornwell/opt/anaconda3/envs/rascil37/lib/python3.7/site-packages/casacore/tables/_tables.cpython-37m-darwin.so\n  Reason: image not found"
     ]
    }
   ],
   "source": [
    "selected_sources = ['1302+5748']\n",
    "bvis_list = create_blockvisibility_from_ms('../../data/3C277.1_avg.ms', datacolumn='CORRECTED_DATA',\n",
    "                                           selected_sources=selected_sources)\n",
    "sources = numpy.unique([bv.source for bv in bvis_list])\n",
    "print(sources)\n",
    "print(numpy.max(bvis_list[0].flagged_vis))"
   ]
  },
  {
   "cell_type": "code",
   "execution_count": null,
   "metadata": {
    "pycharm": {
     "name": "#%%\n"
    }
   },
   "outputs": [],
   "source": [
    "flag = False\n",
    "if flag:\n",
    "    \n",
    "    import aoflagger as aof\n",
    "    \n",
    "    bvis=bvis_list[0]\n",
    "    ntimes, nant, _, nch, npol = bvis.vis.shape\n",
    "\n",
    "    aoflagger = aof.AOFlagger()\n",
    "    # Shape of returned buffer is actually nch, ntimes\n",
    "    data = aoflagger.make_image_set(ntimes, nch, npol*2)\n",
    "\n",
    "    print(\"Number of times: \" + str(data.width()))\n",
    "    print(\"Number of antennas:\" +str(nant))\n",
    "    print(\"Number of channels: \" + str(data.height()))\n",
    "    print(\"Number of polarisations: \" + str(npol))\n",
    "    eMERLIN_strategy = aoflagger.load_strategy('eMERLIN_strategy.rfis')\n",
    "\n",
    "    for a2 in range(0, nant-1):\n",
    "        for a1 in range(a2+1,nant):\n",
    "            for pol in range(npol):\n",
    "                data.set_image_buffer(2*pol,   numpy.real(bvis.vis[:,a1,a2,:,pol]).T)\n",
    "                data.set_image_buffer(2*pol+1, numpy.imag(bvis.vis[:,a1,a2,:,pol]).T)\n",
    "\n",
    "\n",
    "            flags = aoflagger.run(eMERLIN_strategy, data)\n",
    "            flagvalues = flags.get_buffer() * 1\n",
    "            bvis.data['flags'][:,a1,a2,:,:] = flagvalues.T[...,numpy.newaxis]\n",
    "            flagcount = sum(sum(flagvalues))\n",
    "            print(str(a1) + \" \" + str(a2) + \": percentage flags on zero data: \" \n",
    "                  + str(flagcount * 100.0 / (nch*ntimes)) + \"%\")"
   ]
  },
  {
   "cell_type": "markdown",
   "metadata": {},
   "source": [
    "#### Average across all each BlockVisibility over all 128 channels, and then concatenate into single BlockVisibilitys, one per source"
   ]
  },
  {
   "cell_type": "code",
   "execution_count": null,
   "metadata": {
    "pycharm": {
     "name": "#%%\n"
    }
   },
   "outputs": [],
   "source": [
    "avis_list = [integrate_visibility_by_channel(bvis) for bvis in bvis_list]\n",
    "print(numpy.max(avis_list[0].flagged_vis))\n",
    "blockvis = [concatenate_blockvisibility_frequency(avis_list[isource * 4:(isource * 4 + 4)])\n",
    "            for isource, source in enumerate(sources)]\n",
    "print(numpy.max(blockvis[0].flagged_vis))"
   ]
  },
  {
   "cell_type": "markdown",
   "metadata": {},
   "source": [
    "#### Plot the uv coverage and visibility"
   ]
  },
  {
   "cell_type": "markdown",
   "metadata": {},
   "source": [
    "#### Run one of:\n",
    "- Invert + deconvolve + restore (mode='invert')\n",
    "- Continuum Imaging Pipeline (mode='cip')\n",
    "- ICAL pipeline (mode='ical')"
   ]
  },
  {
   "cell_type": "code",
   "execution_count": null,
   "metadata": {
    "pycharm": {
     "name": "#%% \n"
    }
   },
   "outputs": [],
   "source": [
    "plt.rcParams['figure.figsize'] = [12, 12]\n",
    "plt.rcParams['image.cmap'] = 'rainbow'\n",
    "\n",
    "from rascil.processing_components import invert_2d\n",
    "from rascil.workflows import continuum_imaging_list_serial_workflow, ical_list_serial_workflow\n",
    "\n",
    "advice = advise_wide_field(avis_list[0], verbose=False)\n",
    "for svis in blockvis:\n",
    "    frequency = [numpy.mean(svis.frequency)]\n",
    "    channel_bandwidth = [numpy.sum(svis.channel_bandwidth)]\n",
    "    ivis = convert_blockvisibility_to_stokesI(svis)\n",
    "    print(numpy.max(ivis.flagged_weight))\n",
    "    model = create_image_from_visibility(ivis, npixel=1024, cellsize=advice['cellsize']/3.0, nchan=1,\n",
    "                                         frequency=frequency, channel_bandwidth=channel_bandwidth)\n",
    "    cvis = convert_blockvisibility_to_visibility(ivis)\n",
    "    print(numpy.max(cvis.flagged_weight))\n",
    "    cvis = weight_visibility(cvis, model)\n",
    "    print(numpy.max(cvis.flagged_weight))\n",
    "    ivis = convert_visibility_to_blockvisibility(cvis)\n",
    "    print(numpy.max(ivis.flagged_weight))\n",
    "    \n",
    "    for mode in [\"invert\"]:\n",
    "        \n",
    "        print(\"\\n\")\n",
    "        print(\"Processing {source:s} via {mode:s} pipeline\".format(source=svis.source, mode=mode))\n",
    "        print(\"\\n\")\n",
    "\n",
    "        filename_root = \"3C277.1_avg_{source:s}_{mode:s}\".format(source=svis.source, mode=mode)\n",
    "\n",
    "        if mode == \"ical\":\n",
    "            controls = create_calibration_controls()\n",
    "            controls['T']['first_selfcal'] = 1\n",
    "            controls['T']['phase_only'] = True\n",
    "            controls['T']['timeslice'] = 3.0\n",
    "            controls['G']['first_selfcal'] = 10\n",
    "            controls['G']['phase_only'] = False\n",
    "            controls['G']['timeslice'] = 3600.0\n",
    "\n",
    "\n",
    "            deconvolved, residual, restored, gt_list = ical_list_serial_workflow([ivis], [model],\n",
    "                                                                                 context='ng',\n",
    "                                                                                 nmajor=15,\n",
    "                                                                                 niter=1000, algorithm='msclean',\n",
    "                                                                                 scales=[0, 3, 10], gain=0.1,\n",
    "                                                                                 fractional_threshold=0.5,\n",
    "                                                                                 threshold=0.0015,\n",
    "                                                                                 window_shape='quarter',\n",
    "                                                                                 do_wstacking=False,\n",
    "                                                                                 global_solution=False,\n",
    "                                                                                 calibration_context='TG',\n",
    "                                                                                 do_selfcal=True,\n",
    "                                                                                 controls=controls)\n",
    "            deconvolved = deconvolved[0]\n",
    "            residual = residual[0][0]\n",
    "            restored = restored[0]\n",
    "            gt = gt_list[0]['T']\n",
    "            print(qa_gaintable(gt))\n",
    "            fig, ax = plt.subplots(1,1)\n",
    "            gaintable_plot(gt, ax, value='phase')\n",
    "            plt.show(block=False)\n",
    "\n",
    "            gt = gt_list[0]['G']\n",
    "            print(qa_gaintable(gt))\n",
    "            fig, ax = plt.subplots(1,1)\n",
    "            gaintable_plot(gt, ax, value='amp')\n",
    "            plt.show(block=False)\n",
    "\n",
    "\n",
    "        elif mode == \"cip\":\n",
    "            deconvolved, residual, restored = continuum_imaging_list_serial_workflow([ivis], [model], context='ng',\n",
    "                                                                                     nmajor=10,\n",
    "                                                                                     niter=1000, algorithm='msclean',\n",
    "                                                                                     scales=[0, 3, 10], gain=0.1,\n",
    "                                                                                     fractional_threshold=0.5,\n",
    "                                                                                     threshold=0.0015,\n",
    "                                                                                     window_shape='quarter',\n",
    "                                                                                     do_wstacking=False)\n",
    "\n",
    "            deconvolved = deconvolved[0]\n",
    "            residual = residual[0][0]\n",
    "            restored = restored[0]\n",
    "\n",
    "        else:\n",
    "            mode = \"invert\"\n",
    "            print(numpy.max(ivis.flagged_vis))\n",
    "            dirty, sumwt = invert_ng(ivis, model, do_wstacking=False)\n",
    "            print(sumwt)\n",
    "            plt.clf()\n",
    "            show_image(dirty, title=svis.source + \" Dirty image\", cm=\"rainbow\")\n",
    "            plt.show(block=False)\n",
    "\n",
    "            psf, sumwt = invert_ng(ivis, model, do_wstacking=False, dopsf=True)\n",
    "            plt.clf()\n",
    "            show_image(psf, title=svis.source + \" PSF\", cm=\"rainbow\")\n",
    "            plt.show(block=False)\n",
    "\n",
    "            deconvolved, residual = deconvolve_cube(dirty, psf, niter=1000, algorithm='msclean',\n",
    "                                                    fractional_threshold=1e-3,\n",
    "                                                    scales=[0, 3, 10], gain=0.1, threshold=0.003,\n",
    "                                                    window_shape='quarter')\n",
    "            restored = restore_cube(deconvolved, psf, residual)\n",
    "\n",
    "        print(qa_image(deconvolved, context='Deconvolved image'))\n",
    "        plt.clf()\n",
    "        show_image(deconvolved, title=filename_root + \" deconvolved image\", cm=\"rainbow\")\n",
    "        plt.tight_layout()\n",
    "        plt.show(block=False)\n",
    "        filename = \"{root:s}_deconvolved.fits\".format(root=filename_root)\n",
    "        export_image_to_fits(deconvolved, filename)\n",
    "\n",
    "\n",
    "        print(qa_image(residual, context='Residual image'))\n",
    "        plt.clf()\n",
    "        show_image(residual, title=filename_root + \" residual image\", cm=\"rainbow\")\n",
    "        plt.tight_layout()\n",
    "        plt.show(block=False)\n",
    "        filename = \"{root:s}_residual.fits\".format(root=filename_root)\n",
    "        export_image_to_fits(residual, filename)\n",
    "\n",
    "\n",
    "        print(qa_image(restored, context='Restored image'))\n",
    "        plt.clf()\n",
    "        show_image(restored, title=filename_root + \" restored image\", cm=\"rainbow\")\n",
    "        plt.tight_layout()\n",
    "        plt.show(block=False)        \n",
    "\n",
    "        plt.clf()\n",
    "        show_image(restored, title=filename_root + \" restored image\", vscale=0.1, cm=\"rainbow\")\n",
    "        plt.tight_layout()\n",
    "        plt.show(block=False)        \n",
    "\n",
    "        filename = \"{root:s}_restored.fits\".format(root=filename_root)\n",
    "        export_image_to_fits(restored, filename)\n",
    "    "
   ]
  },
  {
   "cell_type": "code",
   "execution_count": null,
   "metadata": {
    "pycharm": {
     "name": "#%%\n"
    }
   },
   "outputs": [],
   "source": []
  },
  {
   "cell_type": "code",
   "execution_count": null,
   "metadata": {
    "pycharm": {
     "name": "#%%\n"
    }
   },
   "outputs": [],
   "source": []
  }
 ],
 "metadata": {
  "kernelspec": {
   "display_name": "Python 3",
   "language": "python",
   "name": "python3"
  },
  "language_info": {
   "codemirror_mode": {
    "name": "ipython",
    "version": 3
   },
   "file_extension": ".py",
   "mimetype": "text/x-python",
   "name": "python",
   "nbconvert_exporter": "python",
   "pygments_lexer": "ipython3",
   "version": "3.7.6"
  },
  "pycharm": {
   "stem_cell": {
    "cell_type": "raw",
    "metadata": {
     "collapsed": false
    },
    "source": []
   }
  }
 },
 "nbformat": 4,
 "nbformat_minor": 1
}
